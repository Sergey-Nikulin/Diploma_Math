{
 "cells": [
  {
   "cell_type": "code",
   "execution_count": 312,
   "metadata": {},
   "outputs": [],
   "source": [
    "import matplotlib.pyplot as plt\n",
    "import numpy as np\n",
    "import pandas as pd\n",
    "\n",
    "from scipy.optimize import minimize\n",
    "%matplotlib inline\n",
    "\n",
    "from scipy.misc import derivative\n",
    "import scipy.stats as sts\n",
    "\n",
    "import random\n",
    "import seaborn\n",
    "\n",
    "from numpy.random import choice\n",
    "from scipy.stats import *\n",
    "\n",
    "from math import*\n",
    "from scipy.optimize import differential_evolution\n",
    "from scipy.optimize import approx_fprime\n",
    "\n",
    "from sklearn.metrics.pairwise import pairwise_distances\n",
    "\n",
    "from scipy import linalg\n",
    "from sklearn.decomposition import PCA\n"
   ]
  },
  {
   "cell_type": "markdown",
   "metadata": {},
   "source": [
    "### Задание 1"
   ]
  },
  {
   "cell_type": "markdown",
   "metadata": {},
   "source": [
    "Дана матрица рейтингов фильмов (строки - пользователи (10 человек), столбцы - фильмы (15 фильмов))"
   ]
  },
  {
   "cell_type": "code",
   "execution_count": 181,
   "metadata": {},
   "outputs": [],
   "source": [
    "raitings = np.array([[ 4,  4,  9,  4,  1,  6, 10,  7,  9,  6,  9,  2,  8,  6,  6],\n",
    "                     [ 9,  2,  5, 10,  7,  8, 10,  5,  6,  2,  1,  6,  8,  9,  7],\n",
    "                     [ 1,  6,  8,  8,  4,  9,  3,  8, 10,  5,  2,  6,  8,  1,  6],\n",
    "                     [ 6,  1,  9,  7,  7,  9,  2,  3,  5,  1,  6,  6,  3,  2,  7],\n",
    "                     [ 3,  7,  3,  5,  7,  9,  9,  6,  2,  9,  1,  2,  8, 10,  6],\n",
    "                     [ 8,  3,  7,  3,  8,  6,  1,  8,  8,  6,  1,  9,  4, 10,  1],\n",
    "                     [ 9,  8,  4,  8,  8, 10,  6,  1,  1,  2,  9,  5,  2,  7,  2],\n",
    "                     [ 4,  1,  6,  4,  3, 10,  4,  4,  2,  8,  7,  9,  3,  8,  3],\n",
    "                     [ 2,  7,  7,  6, 10,  6,  8,  9,  8,  6, 10,  1,  7, 10,  4],\n",
    "                     [ 5, 10,  8,  8,  9,  7,  2,  9,  9, 10,  8,  8,  8,  6, 10]])"
   ]
  },
  {
   "cell_type": "markdown",
   "metadata": {},
   "source": [
    "<b> a) </b> Необходимо найти наиболее похожего пользователя по косинусной метрике для каждого из (ответ: 10 пар вида (x, y), где y - наиболее похожий пользователь на пользователя x)."
   ]
  },
  {
   "cell_type": "code",
   "execution_count": 246,
   "metadata": {},
   "outputs": [
    {
     "data": {
      "text/plain": [
       "array([[0.        , 0.17397081, 0.15078471, 0.21659884, 0.18082368,\n",
       "        0.25881452, 0.27264172, 0.19032478, 0.08934018, 0.13989224],\n",
       "       [0.17397081, 0.        , 0.18765675, 0.15364663, 0.12861948,\n",
       "        0.17286893, 0.17370316, 0.19973997, 0.17473692, 0.18031873],\n",
       "       [0.15078471, 0.18765675, 0.        , 0.15330626, 0.21605701,\n",
       "        0.20902015, 0.32383777, 0.23710448, 0.17887923, 0.08126949],\n",
       "       [0.21659884, 0.15364663, 0.15330626, 0.        , 0.30846591,\n",
       "        0.21334208, 0.16725789, 0.17065333, 0.2229334 , 0.1411313 ],\n",
       "       [0.18082368, 0.12861948, 0.21605701, 0.30846591, 0.        ,\n",
       "        0.2235566 , 0.21799532, 0.18763131, 0.12051523, 0.15425211],\n",
       "       [0.25881452, 0.17286893, 0.20902015, 0.21334208, 0.2235566 ,\n",
       "        0.        , 0.25988199, 0.15548315, 0.19377124, 0.14485092],\n",
       "       [0.27264172, 0.17370316, 0.32383777, 0.16725789, 0.21799532,\n",
       "        0.25988199, 0.        , 0.17330826, 0.18869956, 0.20845282],\n",
       "       [0.19032478, 0.19973997, 0.23710448, 0.17065333, 0.18763131,\n",
       "        0.15548315, 0.17330826, 0.        , 0.2018724 , 0.16317771],\n",
       "       [0.08934018, 0.17473692, 0.17887923, 0.2229334 , 0.12051523,\n",
       "        0.19377124, 0.18869956, 0.2018724 , 0.        , 0.09906203],\n",
       "       [0.13989224, 0.18031873, 0.08126949, 0.1411313 , 0.15425211,\n",
       "        0.14485092, 0.20845282, 0.16317771, 0.09906203, 0.        ]])"
      ]
     },
     "execution_count": 246,
     "metadata": {},
     "output_type": "execute_result"
    }
   ],
   "source": [
    "cos_us = pairwise_distances(raitings, metric='cosine')\n",
    "cos_us"
   ]
  },
  {
   "cell_type": "code",
   "execution_count": 301,
   "metadata": {},
   "outputs": [
    {
     "name": "stdout",
     "output_type": "stream",
     "text": [
      "10 пар вида (x, y) где y - наиболее похожий пользователь на пользователя x):\n",
      "(1, 9)\n",
      "(2, 5)\n",
      "(3, 10)\n",
      "(4, 10)\n",
      "(5, 9)\n",
      "(6, 10)\n",
      "(7, 4)\n",
      "(8, 6)\n",
      "(9, 1)\n",
      "(10, 3)\n"
     ]
    }
   ],
   "source": [
    "index = 0\n",
    "print(f'10 пар вида (x, y) где y - наиболее похожий пользователь на пользователя x):')\n",
    "for i in cos_us:\n",
    "    ko = list(i).index(np.min(i[np.nonzero(i)])) + 1\n",
    "    index += 1\n",
    "    print(f'({index}, {ko})')\n"
   ]
  },
  {
   "cell_type": "code",
   "execution_count": null,
   "metadata": {},
   "outputs": [],
   "source": []
  },
  {
   "cell_type": "markdown",
   "metadata": {},
   "source": [
    "<b> b) </b>Предположим, вы захотели сжать признаковые описания пользователя с 15 фильмов, до, скажем, 5-ти признаков, как вы это сделаете?"
   ]
  },
  {
   "cell_type": "code",
   "execution_count": 323,
   "metadata": {},
   "outputs": [
    {
     "data": {
      "text/plain": [
       "array([[-5.30986101,  1.92919845, -4.93300027,  2.70188013,  5.50497886],\n",
       "       [ 2.87763403,  2.71659559,  1.40592782,  7.26325751, -4.50322291],\n",
       "       [-4.94010408, -6.68861167, -0.94550184,  3.61556661, -0.68969272],\n",
       "       [ 5.14939908, -6.28027284, -4.65978558,  1.09024004, -1.01471112],\n",
       "       [-1.37488691,  7.54357985,  4.00834369,  2.1284001 , -0.16324949],\n",
       "       [ 2.65341956, -3.77075601,  8.58430748, -1.46628319,  1.67401769],\n",
       "       [ 8.61573944,  3.78603335, -4.02721027, -4.37582577, -3.13880277],\n",
       "       [ 5.39658258, -1.0170466 ,  1.01456742, -1.89512837,  6.54883538],\n",
       "       [-5.7843488 ,  5.29857107, -1.48083611, -3.71295542,  0.21312695],\n",
       "       [-7.2835739 , -3.51729118,  1.03318766, -5.34915166, -4.43127987]])"
      ]
     },
     "execution_count": 323,
     "metadata": {},
     "output_type": "execute_result"
    }
   ],
   "source": [
    "pca = PCA(n_components=5)\n",
    "mc = pca.fit_transform(raitings)\n",
    "mc"
   ]
  },
  {
   "cell_type": "code",
   "execution_count": 324,
   "metadata": {},
   "outputs": [
    {
     "data": {
      "text/plain": [
       "array([0.25373748, 0.1970209 , 0.14113306, 0.12956371, 0.11289928])"
      ]
     },
     "execution_count": 324,
     "metadata": {},
     "output_type": "execute_result"
    }
   ],
   "source": [
    "pca.explained_variance_ratio_"
   ]
  },
  {
   "cell_type": "code",
   "execution_count": 320,
   "metadata": {},
   "outputs": [
    {
     "data": {
      "image/png": "[encoded data removed]",
      "text/plain": [
       "<Figure size 432x288 with 1 Axes>"
      ]
     },
     "metadata": {
      "needs_background": "light"
     },
     "output_type": "display_data"
    }
   ],
   "source": [
    "pcamodel = PCA(n_components=5)\n",
    "plt.plot(pca.explained_variance_ratio_)\n",
    "plt.xlabel('number of components')\n",
    "plt.ylabel('cumulative explained variance')\n",
    "plt.show()"
   ]
  },
  {
   "cell_type": "code",
   "execution_count": null,
   "metadata": {},
   "outputs": [],
   "source": []
  },
  {
   "cell_type": "code",
   "execution_count": null,
   "metadata": {},
   "outputs": [],
   "source": []
  },
  {
   "cell_type": "code",
   "execution_count": null,
   "metadata": {},
   "outputs": [],
   "source": []
  },
  {
   "cell_type": "markdown",
   "metadata": {},
   "source": [
    "### Задание 2"
   ]
  },
  {
   "cell_type": "markdown",
   "metadata": {},
   "source": [
    "Вычислите производную $tg^2(sin(x) + cos(2x+3))$ в точке $x_0=1$ на python и на бумаге (просто подставить точку в производную и ничего не упрощать)."
   ]
  },
  {
   "cell_type": "code",
   "execution_count": 5,
   "metadata": {},
   "outputs": [
    {
     "data": {
      "text/latex": [
       "$\\displaystyle 2 \\left(- 2 \\sin{\\left(2 x + 3 \\right)} + \\cos{\\left(x \\right)}\\right) \\left(\\tan^{2}{\\left(\\sin{\\left(x \\right)} + \\cos{\\left(2 x + 3 \\right)} \\right)} + 1\\right) \\tan{\\left(\\sin{\\left(x \\right)} + \\cos{\\left(2 x + 3 \\right)} \\right)}$"
      ],
      "text/plain": [
       "2*(-2*sin(2*x + 3) + cos(x))*(tan(sin(x) + cos(2*x + 3))**2 + 1)*tan(sin(x) + cos(2*x + 3))"
      ]
     },
     "execution_count": 5,
     "metadata": {},
     "output_type": "execute_result"
    }
   ],
   "source": [
    "# производная\n",
    "from sympy import *\n",
    "\n",
    "x, y = symbols('x y')\n",
    "diff((tan(sin(x) + cos(2 * x + 3))) ** 2)"
   ]
  },
  {
   "cell_type": "code",
   "execution_count": 6,
   "metadata": {},
   "outputs": [
    {
     "data": {
      "text/latex": [
       "$\\displaystyle 0$"
      ],
      "text/plain": [
       "0"
      ]
     },
     "execution_count": 6,
     "metadata": {},
     "output_type": "execute_result"
    }
   ],
   "source": [
    "# производная в точке x=1\n",
    "x, y = symbols('x y')\n",
    "diff((tan(sin(1) + cos(2 * 1 + 3))) ** 2)"
   ]
  },
  {
   "cell_type": "code",
   "execution_count": null,
   "metadata": {},
   "outputs": [],
   "source": []
  },
  {
   "cell_type": "code",
   "execution_count": 45,
   "metadata": {},
   "outputs": [],
   "source": [
    "# def f(x):\n",
    "    \n",
    "#     return (tan(sin(x) + cos(2 * x + 3))) ** 2\n",
    "\n",
    "# derivative(f, 1.0, dx=1e-6)"
   ]
  },
  {
   "cell_type": "markdown",
   "metadata": {},
   "source": [
    "### Задание 3"
   ]
  },
  {
   "cell_type": "markdown",
   "metadata": {},
   "source": [
    "Дана функция с неизвестными параметрами a и b, вам также известны значения функции fx в точках x. Найдите оптимальные параметры a, b, минимизирующие абсолютную ошибку <b>error</b>"
   ]
  },
  {
   "cell_type": "code",
   "execution_count": 7,
   "metadata": {},
   "outputs": [],
   "source": [
    "def f(x, a, b):\n",
    "    return np.e**a * np.sin(b*x) + x"
   ]
  },
  {
   "cell_type": "code",
   "execution_count": 8,
   "metadata": {},
   "outputs": [],
   "source": [
    "x = np.array([0.        , 0.26315789, 0.52631579, 0.78947368, 1.05263158,\n",
    "              1.31578947, 1.57894737, 1.84210526, 2.10526316, 2.36842105,\n",
    "              2.63157895, 2.89473684, 3.15789474, 3.42105263, 3.68421053,\n",
    "              3.94736842, 4.21052632, 4.47368421, 4.73684211, 5.        ])"
   ]
  },
  {
   "cell_type": "code",
   "execution_count": 9,
   "metadata": {},
   "outputs": [],
   "source": [
    "fx = np.array([  0.        , -12.01819092, -18.90968634, -17.68786571,\n",
    "                -8.7529108 ,   4.27524517,  16.06801336,  21.81250213,\n",
    "                19.22059845,   9.48411207,  -3.22273056, -13.48576488,\n",
    "               -16.91096359, -11.95866834,  -0.58630088,  12.56873816,\n",
    "                22.12489421,  24.20292139,  18.04522521,   6.33211092])"
   ]
  },
  {
   "cell_type": "code",
   "execution_count": 10,
   "metadata": {},
   "outputs": [],
   "source": [
    "# plt.plot(x, fx)\n",
    "# plt.show()"
   ]
  },
  {
   "cell_type": "code",
   "execution_count": 11,
   "metadata": {},
   "outputs": [],
   "source": [
    "def error(params):\n",
    "    return np.sum(np.abs(fx - f(x, params[0], params[1])))"
   ]
  },
  {
   "cell_type": "code",
   "execution_count": 18,
   "metadata": {},
   "outputs": [
    {
     "data": {
      "text/plain": [
       "     fun: 236.995326807352\n",
       "   maxcv: 0.0\n",
       " message: 'Optimization terminated successfully.'\n",
       "    nfev: 118\n",
       "  status: 1\n",
       " success: True\n",
       "       x: array([2.02785557, 0.30403095])"
      ]
     },
     "execution_count": 18,
     "metadata": {},
     "output_type": "execute_result"
    }
   ],
   "source": [
    "minimize(error, (1, 1), method='COBYLA')"
   ]
  },
  {
   "cell_type": "code",
   "execution_count": null,
   "metadata": {},
   "outputs": [],
   "source": []
  },
  {
   "cell_type": "markdown",
   "metadata": {},
   "source": [
    "### Задание 4"
   ]
  },
  {
   "cell_type": "markdown",
   "metadata": {},
   "source": [
    "Создайте собственную дискретную случайную величину с 20 значениями. Сгенерируйте 1000 выборок размера 50. Посчитайте среднее для каждой выборки. Постройте гистограмму распределения средних."
   ]
  },
  {
   "cell_type": "markdown",
   "metadata": {},
   "source": [
    "##### Создайте случайную величину из любого выбранного вами распределения, для разных значений n сгенерируйте 1000 выборок размера n и постройте гистрограммы средних этих выборок."
   ]
  },
  {
   "cell_type": "code",
   "execution_count": 352,
   "metadata": {},
   "outputs": [],
   "source": [
    "p=0.3\n",
    "rv  =  sts.expon()  ### YOUR CODE HERE\n",
    "sample = rv.rvs(size=20)\n",
    "\n",
    "#параметры запуска: размеры выборок и количество повторов генерации\n",
    "n1 = 50\n",
    "# YOUR CODE HERE\n",
    "samples_count = 1000\n",
    "#массивы для сохранения средних по выборкам\n",
    "a1 = np.array([])\n",
    "\n",
    "for number in range(samples_count):\n",
    "    # на каждом цикле генерируем выборки разных размеров\n",
    "    sample1 = rv.rvs(size=n1)\n",
    "    # YOUR CODE HERE\n",
    "    # считаем среднее по каждой выборке и добавляем в массив средних\n",
    "    a1 = np.append(a1, sample1.mean())\n",
    "#     print(a1)"
   ]
  },
  {
   "cell_type": "code",
   "execution_count": 353,
   "metadata": {},
   "outputs": [
    {
     "data": {
      "text/plain": [
       "Text(0.5, 0, '$x$')"
      ]
     },
     "execution_count": 353,
     "metadata": {},
     "output_type": "execute_result"
    },
    {
     "data": {
      "image/png": "[encoded data removed]",
      "text/plain": [
       "<Figure size 432x288 with 1 Axes>"
      ]
     },
     "metadata": {
      "needs_background": "light"
     },
     "output_type": "display_data"
    }
   ],
   "source": [
    "#строим графики\n",
    "#подписи для графиков\n",
    "label_1 = 'sample of ' + str(n1) + ' histogram'\n",
    "plt.hist(a1, density=True, label=label_1)\n",
    "\n",
    "plt.legend()\n",
    "plt.ylabel('samples means')\n",
    "plt.xlabel('$x$')\n"
   ]
  },
  {
   "cell_type": "code",
   "execution_count": 354,
   "metadata": {},
   "outputs": [
    {
     "data": {
      "text/plain": [
       "Text(0.5, 0, '$x$')"
      ]
     },
     "execution_count": 354,
     "metadata": {},
     "output_type": "execute_result"
    },
    {
     "data": {
      "image/png": "[encoded data removed]",
      "text/plain": [
       "<Figure size 432x288 with 1 Axes>"
      ]
     },
     "metadata": {
      "needs_background": "light"
     },
     "output_type": "display_data"
    }
   ],
   "source": [
    "#строим графики\n",
    "#подписи для графиков\n",
    "label_1 = 'sample of ' + str(10) + ' histogram'\n",
    "plt.hist(a1, density=True, label=label_1)\n",
    "\n",
    "plt.legend()\n",
    "plt.ylabel('samples means')\n",
    "plt.xlabel('$x$')\n"
   ]
  },
  {
   "cell_type": "code",
   "execution_count": 355,
   "metadata": {},
   "outputs": [
    {
     "data": {
      "text/plain": [
       "Text(0.5, 0, '$x$')"
      ]
     },
     "execution_count": 355,
     "metadata": {},
     "output_type": "execute_result"
    },
    {
     "data": {
      "image/png": "[encoded data removed]",
      "text/plain": [
       "<Figure size 432x288 with 1 Axes>"
      ]
     },
     "metadata": {
      "needs_background": "light"
     },
     "output_type": "display_data"
    }
   ],
   "source": [
    "#строим графики\n",
    "#подписи для графиков\n",
    "label_1 = 'sample of ' + str(250) + ' histogram'\n",
    "plt.hist(a1, density=True, label=label_1)\n",
    "\n",
    "plt.legend()\n",
    "plt.ylabel('samples means')\n",
    "plt.xlabel('$x$')\n"
   ]
  },
  {
   "cell_type": "code",
   "execution_count": 356,
   "metadata": {},
   "outputs": [
    {
     "data": {
      "text/plain": [
       "Text(0.5, 0, '$x$')"
      ]
     },
     "execution_count": 356,
     "metadata": {},
     "output_type": "execute_result"
    },
    {
     "data": {
      "image/png": "[encoded data removed]",
      "text/plain": [
       "<Figure size 432x288 with 1 Axes>"
      ]
     },
     "metadata": {
      "needs_background": "light"
     },
     "output_type": "display_data"
    }
   ],
   "source": [
    "#строим графики\n",
    "#подписи для графиков\n",
    "label_1 = 'sample of ' + str(500) + ' histogram'\n",
    "plt.hist(a1, density=True, label=label_1)\n",
    "\n",
    "plt.legend()\n",
    "plt.ylabel('samples means')\n",
    "plt.xlabel('$x$')\n"
   ]
  },
  {
   "cell_type": "code",
   "execution_count": 357,
   "metadata": {},
   "outputs": [
    {
     "data": {
      "text/plain": [
       "Text(0.5, 0, '$x$')"
      ]
     },
     "execution_count": 357,
     "metadata": {},
     "output_type": "execute_result"
    },
    {
     "data": {
      "image/png": "[encoded data removed]",
      "text/plain": [
       "<Figure size 432x288 with 1 Axes>"
      ]
     },
     "metadata": {
      "needs_background": "light"
     },
     "output_type": "display_data"
    }
   ],
   "source": [
    "#строим графики\n",
    "#подписи для графиков\n",
    "label_1 = 'sample of ' + str(1000) + ' histogram'\n",
    "plt.hist(a1, density=True, label=label_1)\n",
    "\n",
    "plt.legend()\n",
    "plt.ylabel('samples means')\n",
    "plt.xlabel('$x$')\n"
   ]
  },
  {
   "cell_type": "code",
   "execution_count": null,
   "metadata": {},
   "outputs": [],
   "source": []
  },
  {
   "cell_type": "code",
   "execution_count": null,
   "metadata": {},
   "outputs": [],
   "source": []
  },
  {
   "cell_type": "markdown",
   "metadata": {},
   "source": [
    "### Задание 5"
   ]
  },
  {
   "cell_type": "markdown",
   "metadata": {},
   "source": [
    "Найдите собственные значения и собственные вектора матрицы (на python и на бумаге)\n",
    "\n",
    "[[1, 4],\n",
    "\n",
    " [1, 1]]"
   ]
  },
  {
   "cell_type": "code",
   "execution_count": 3,
   "metadata": {},
   "outputs": [
    {
     "name": "stdout",
     "output_type": "stream",
     "text": [
      "[[1 4]\n",
      " [1 1]]\n"
     ]
    }
   ],
   "source": [
    "# Собственные векторы и собственные значения\n",
    "a = np.array([[1, 4], [1, 1]])\n",
    "w, v = np.linalg.eig(a)\n",
    "print(a)"
   ]
  },
  {
   "cell_type": "code",
   "execution_count": 4,
   "metadata": {},
   "outputs": [
    {
     "name": "stdout",
     "output_type": "stream",
     "text": [
      "Собственное значение 3.0\n",
      "соответствующий ему собственный вектор [0.89442719 0.4472136 ]\n",
      "Собственное значение -1.0\n",
      "соответствующий ему собственный вектор [-0.89442719  0.4472136 ]\n"
     ]
    }
   ],
   "source": [
    "for i in range(len(w)):\n",
    "    print(\"Собственное значение \" + str(round(w[i])))\n",
    "    print(\"соответствующий ему собственный вектор \" + str(v[:,i]))"
   ]
  },
  {
   "cell_type": "code",
   "execution_count": 24,
   "metadata": {},
   "outputs": [],
   "source": []
  },
  {
   "cell_type": "code",
   "execution_count": null,
   "metadata": {},
   "outputs": [],
   "source": []
  }
 ],
 "metadata": {
  "kernelspec": {
   "display_name": "Python 3",
   "language": "python",
   "name": "python3"
  },
  "language_info": {
   "codemirror_mode": {
    "name": "ipython",
    "version": 3
   },
   "file_extension": ".py",
   "mimetype": "text/x-python",
   "name": "python",
   "nbconvert_exporter": "python",
   "pygments_lexer": "ipython3",
   "version": "3.7.6"
  }
 },
 "nbformat": 4,
 "nbformat_minor": 2
}
